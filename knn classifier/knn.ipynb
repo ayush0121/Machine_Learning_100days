{
 "cells": [
  {
   "cell_type": "code",
   "execution_count": 2,
   "metadata": {},
   "outputs": [],
   "source": [
    "import numpy as np \n",
    "import pandas as pd   \n",
    "import matplotlib.pyplot as plt              \n"
   ]
  },
  {
   "cell_type": "code",
   "execution_count": 6,
   "metadata": {},
   "outputs": [],
   "source": [
    "data=pd.read_csv('Social_Network_Ads.csv')"
   ]
  },
  {
   "cell_type": "code",
   "execution_count": 7,
   "metadata": {},
   "outputs": [
    {
     "data": {
      "text/html": [
       "<div>\n",
       "<style scoped>\n",
       "    .dataframe tbody tr th:only-of-type {\n",
       "        vertical-align: middle;\n",
       "    }\n",
       "\n",
       "    .dataframe tbody tr th {\n",
       "        vertical-align: top;\n",
       "    }\n",
       "\n",
       "    .dataframe thead th {\n",
       "        text-align: right;\n",
       "    }\n",
       "</style>\n",
       "<table border=\"1\" class=\"dataframe\">\n",
       "  <thead>\n",
       "    <tr style=\"text-align: right;\">\n",
       "      <th></th>\n",
       "      <th>User ID</th>\n",
       "      <th>Gender</th>\n",
       "      <th>Age</th>\n",
       "      <th>EstimatedSalary</th>\n",
       "      <th>Purchased</th>\n",
       "    </tr>\n",
       "  </thead>\n",
       "  <tbody>\n",
       "    <tr>\n",
       "      <th>0</th>\n",
       "      <td>15624510</td>\n",
       "      <td>Male</td>\n",
       "      <td>19</td>\n",
       "      <td>19000</td>\n",
       "      <td>0</td>\n",
       "    </tr>\n",
       "    <tr>\n",
       "      <th>1</th>\n",
       "      <td>15810944</td>\n",
       "      <td>Male</td>\n",
       "      <td>35</td>\n",
       "      <td>20000</td>\n",
       "      <td>0</td>\n",
       "    </tr>\n",
       "    <tr>\n",
       "      <th>2</th>\n",
       "      <td>15668575</td>\n",
       "      <td>Female</td>\n",
       "      <td>26</td>\n",
       "      <td>43000</td>\n",
       "      <td>0</td>\n",
       "    </tr>\n",
       "    <tr>\n",
       "      <th>3</th>\n",
       "      <td>15603246</td>\n",
       "      <td>Female</td>\n",
       "      <td>27</td>\n",
       "      <td>57000</td>\n",
       "      <td>0</td>\n",
       "    </tr>\n",
       "    <tr>\n",
       "      <th>4</th>\n",
       "      <td>15804002</td>\n",
       "      <td>Male</td>\n",
       "      <td>19</td>\n",
       "      <td>76000</td>\n",
       "      <td>0</td>\n",
       "    </tr>\n",
       "  </tbody>\n",
       "</table>\n",
       "</div>"
      ],
      "text/plain": [
       "    User ID  Gender  Age  EstimatedSalary  Purchased\n",
       "0  15624510    Male   19            19000          0\n",
       "1  15810944    Male   35            20000          0\n",
       "2  15668575  Female   26            43000          0\n",
       "3  15603246  Female   27            57000          0\n",
       "4  15804002    Male   19            76000          0"
      ]
     },
     "execution_count": 7,
     "metadata": {},
     "output_type": "execute_result"
    }
   ],
   "source": [
    "data.head()  # this shows the preview of the data and will show the first five rows of the data"
   ]
  },
  {
   "cell_type": "code",
   "execution_count": 12,
   "metadata": {},
   "outputs": [],
   "source": [
    "x=data.iloc[:,2:4].values   #.value will convert it into numpy arrays and the iloc meaning is we are takig all the rows and the columns from 2 to 4 "
   ]
  },
  {
   "cell_type": "code",
   "execution_count": 14,
   "metadata": {},
   "outputs": [
    {
     "data": {
      "text/plain": [
       "(400, 2)"
      ]
     },
     "execution_count": 14,
     "metadata": {},
     "output_type": "execute_result"
    }
   ],
   "source": [
    "x.shape"
   ]
  },
  {
   "cell_type": "code",
   "execution_count": 17,
   "metadata": {},
   "outputs": [],
   "source": [
    "y=data.iloc[:,-1].values"
   ]
  },
  {
   "cell_type": "code",
   "execution_count": 18,
   "metadata": {},
   "outputs": [
    {
     "data": {
      "text/plain": [
       "(400,)"
      ]
     },
     "execution_count": 18,
     "metadata": {},
     "output_type": "execute_result"
    }
   ],
   "source": [
    "y.shape"
   ]
  },
  {
   "cell_type": "code",
   "execution_count": 19,
   "metadata": {},
   "outputs": [],
   "source": [
    "from sklearn.model_selection import train_test_split\n",
    "x_train,x_test,y_train,y_test=train_test_split(x,y,test_size=0.2)"
   ]
  },
  {
   "cell_type": "code",
   "execution_count": 20,
   "metadata": {},
   "outputs": [
    {
     "data": {
      "text/plain": [
       "(320, 2)"
      ]
     },
     "execution_count": 20,
     "metadata": {},
     "output_type": "execute_result"
    }
   ],
   "source": [
    "x_train.shape"
   ]
  },
  {
   "cell_type": "code",
   "execution_count": 22,
   "metadata": {},
   "outputs": [
    {
     "data": {
      "text/plain": [
       "(80, 2)"
      ]
     },
     "execution_count": 22,
     "metadata": {},
     "output_type": "execute_result"
    }
   ],
   "source": [
    "x_test.shape"
   ]
  },
  {
   "cell_type": "code",
   "execution_count": 23,
   "metadata": {},
   "outputs": [
    {
     "data": {
      "text/plain": [
       "(80,)"
      ]
     },
     "execution_count": 23,
     "metadata": {},
     "output_type": "execute_result"
    }
   ],
   "source": [
    "y_test.shape"
   ]
  },
  {
   "cell_type": "code",
   "execution_count": 24,
   "metadata": {},
   "outputs": [
    {
     "data": {
      "text/plain": [
       "(320,)"
      ]
     },
     "execution_count": 24,
     "metadata": {},
     "output_type": "execute_result"
    }
   ],
   "source": [
    "y_train.shape"
   ]
  },
  {
   "cell_type": "code",
   "execution_count": 25,
   "metadata": {},
   "outputs": [],
   "source": [
    "from sklearn.preprocessing import StandardScaler\n",
    "scaler=StandardScaler()"
   ]
  },
  {
   "cell_type": "code",
   "execution_count": 27,
   "metadata": {},
   "outputs": [
    {
     "data": {
      "text/plain": [
       "array([[-0.26669851,  0.1231177 ],\n",
       "       [ 1.62352349,  1.70499363],\n",
       "       [-0.64474291,  0.24250456],\n",
       "       [-0.73925401,  0.36189143],\n",
       "       [ 0.39487919, -0.41412318],\n",
       "       [-0.64474291, -1.01105749],\n",
       "       [-1.11729841,  0.36189143],\n",
       "       [ 0.30036809,  0.36189143],\n",
       "       [ 0.20585699, -0.62305019],\n",
       "       [-0.64474291,  1.49606662],\n",
       "       [-1.02278731, -0.32458303],\n",
       "       [-0.26669851, -0.4439699 ],\n",
       "       [ 0.30036809, -0.2648896 ],\n",
       "       [ 0.86743469, -0.74243705],\n",
       "       [-1.68436501, -0.56335676],\n",
       "       [ 0.39487919,  0.33204471],\n",
       "       [ 1.71803459,  1.94376736],\n",
       "       [-1.21180951,  0.66035858],\n",
       "       [ 2.00156789, -1.16029107],\n",
       "       [-0.73925401, -0.17534945],\n",
       "       [ 0.11134589, -0.77228377],\n",
       "       [-0.17218741,  1.73484035],\n",
       "       [-0.26669851, -0.23504289],\n",
       "       [ 0.30036809,  0.1231177 ],\n",
       "       [-0.55023181,  1.46621991],\n",
       "       [-1.02278731, -0.41412318],\n",
       "       [ 1.81254569, -1.04090421],\n",
       "       [-0.07767631,  0.18281113],\n",
       "       [-1.68436501,  0.54097172],\n",
       "       [ 0.30036809,  0.57081844],\n",
       "       [ 0.67841249, -1.36921808],\n",
       "       [-0.26669851, -0.62305019],\n",
       "       [ 1.90705679,  0.80959216],\n",
       "       [ 1.90705679, -1.33937137],\n",
       "       [ 0.20585699,  0.21265785],\n",
       "       [ 0.86743469, -1.42891151],\n",
       "       [-0.83376511,  0.36189143],\n",
       "       [ 0.30036809,  0.09327099],\n",
       "       [ 1.90705679,  2.27208123],\n",
       "       [-1.68436501,  0.42158486],\n",
       "       [-1.21180951,  0.33204471],\n",
       "       [ 0.96194579,  0.83943888],\n",
       "       [ 0.01683479, -0.53351004],\n",
       "       [ 1.52901239,  0.06342427],\n",
       "       [ 2.09607899,  1.19759947],\n",
       "       [-1.02278731, -1.10059764],\n",
       "       [-0.64474291, -0.29473632],\n",
       "       [ 2.09607899,  0.45143157],\n",
       "       [-0.55023181,  1.46621991],\n",
       "       [-0.26669851,  0.21265785],\n",
       "       [-0.83376511,  0.45143157],\n",
       "       [ 0.39487919,  0.21265785],\n",
       "       [-0.36120961,  1.40652648],\n",
       "       [ 0.39487919,  0.15296442],\n",
       "       [ 0.20585699,  0.21265785],\n",
       "       [-0.73925401, -0.56335676],\n",
       "       [-1.87338721,  0.00373084],\n",
       "       [-1.87338721, -0.47381661],\n",
       "       [ 0.01683479,  0.36189143],\n",
       "       [-0.26669851,  0.33204471],\n",
       "       [-0.26669851,  0.15296442],\n",
       "       [ 0.01683479,  1.31698633],\n",
       "       [-1.30632061, -0.38427646],\n",
       "       [-0.36120961,  0.1231177 ],\n",
       "       [-0.45572071,  1.34683304],\n",
       "       [ 0.48939029,  1.8243805 ],\n",
       "       [ 1.24547909, -1.33937137],\n",
       "       [-0.83376511, -0.20519617],\n",
       "       [-0.07767631, -0.4439699 ],\n",
       "       [ 0.58390139,  2.12284765],\n",
       "       [-0.92827621,  1.6453002 ],\n",
       "       [ 0.86743469, -0.56335676],\n",
       "       [ 0.11134589,  1.97361407],\n",
       "       [-0.55023181,  0.54097172],\n",
       "       [ 0.01683479,  0.09327099],\n",
       "       [ 1.15096799, -0.71259034],\n",
       "       [ 2.00156789,  0.45143157],\n",
       "       [-0.07767631, -0.38427646],\n",
       "       [ 0.30036809,  0.1231177 ],\n",
       "       [-0.45572071, -0.23504289],\n",
       "       [ 0.77292359,  0.83943888],\n",
       "       [ 0.20585699,  0.302198  ],\n",
       "       [ 1.05645689, -1.19013779],\n",
       "       [-0.17218741, -0.53351004],\n",
       "       [-0.26669851, -1.33937137],\n",
       "       [ 1.15096799, -1.42891151],\n",
       "       [-1.77887611, -1.45875823],\n",
       "       [ 0.86743469,  2.27208123],\n",
       "       [-0.36120961, -0.74243705],\n",
       "       [ 0.20585699, -0.32458303],\n",
       "       [-1.02278731, -1.42891151],\n",
       "       [ 0.86743469, -0.53351004],\n",
       "       [ 1.62352349, -0.86182392],\n",
       "       [-1.11729841, -1.51845166],\n",
       "       [ 0.11134589,  1.97361407],\n",
       "       [ 0.77292359,  0.42158486],\n",
       "       [-0.07767631,  0.06342427],\n",
       "       [-1.02278731,  0.48127829],\n",
       "       [ 1.33999019, -0.89167063],\n",
       "       [-1.68436501, -1.33937137],\n",
       "       [ 0.96194579, -1.04090421],\n",
       "       [-0.26669851, -0.71259034],\n",
       "       [ 0.20585699,  0.09327099],\n",
       "       [-0.36120961, -1.27967793],\n",
       "       [ 1.90705679, -0.62305019],\n",
       "       [-0.07767631,  0.36189143],\n",
       "       [ 0.11134589,  0.33204471],\n",
       "       [-1.77887611,  0.51112501],\n",
       "       [ 0.11134589,  1.61545349],\n",
       "       [-0.73925401,  0.63051187],\n",
       "       [ 1.33999019, -1.3990648 ],\n",
       "       [ 0.48939029,  1.31698633],\n",
       "       [ 1.62352349,  1.85422721],\n",
       "       [-1.58985391,  0.60066515],\n",
       "       [-0.92827621, -0.2648896 ],\n",
       "       [ 0.96194579, -1.16029107],\n",
       "       [-0.64474291, -0.05596259],\n",
       "       [ 0.11134589, -0.20519617],\n",
       "       [ 0.48939029,  1.94376736],\n",
       "       [-0.36120961, -0.74243705],\n",
       "       [-0.26669851,  0.60066515],\n",
       "       [-0.83376511,  0.21265785],\n",
       "       [ 1.81254569,  0.18281113],\n",
       "       [-1.02278731,  0.83943888],\n",
       "       [ 1.81254569, -1.24983122],\n",
       "       [ 0.86743469, -1.01105749],\n",
       "       [-1.77887611, -1.27967793],\n",
       "       [ 0.77292359, -0.80213048],\n",
       "       [-0.45572071, -0.74243705],\n",
       "       [-0.64474291, -1.57814509],\n",
       "       [-1.58985391,  0.1231177 ],\n",
       "       [ 0.77292359, -0.2648896 ],\n",
       "       [-0.83376511, -0.74243705],\n",
       "       [ 2.09607899, -0.77228377],\n",
       "       [ 0.86743469, -1.13044436],\n",
       "       [-0.07767631,  0.36189143],\n",
       "       [ 0.39487919, -0.11565602],\n",
       "       [-0.26669851, -0.32458303],\n",
       "       [ 2.09607899,  1.01851917],\n",
       "       [-0.45572071, -1.19013779],\n",
       "       [ 2.00156789,  0.24250456],\n",
       "       [ 0.30036809, -1.13044436],\n",
       "       [-0.36120961,  1.31698633],\n",
       "       [-0.64474291, -1.48860494],\n",
       "       [ 2.09607899, -0.65289691],\n",
       "       [ 0.96194579,  2.18254108],\n",
       "       [-0.83376511, -0.62305019],\n",
       "       [-0.17218741, -0.23504289],\n",
       "       [-0.55023181,  1.55576005],\n",
       "       [-1.11729841,  0.1231177 ],\n",
       "       [-0.26669851, -0.20519617],\n",
       "       [-1.02278731, -0.29473632],\n",
       "       [-1.11729841, -1.57814509],\n",
       "       [-0.26669851,  0.21265785],\n",
       "       [-1.77887611, -1.24983122],\n",
       "       [ 0.11134589, -0.2648896 ],\n",
       "       [-1.21180951,  0.57081844],\n",
       "       [-0.07767631,  0.21265785],\n",
       "       [-0.92827621,  0.48127829],\n",
       "       [-1.21180951,  0.36189143],\n",
       "       [ 1.81254569, -0.23504289],\n",
       "       [-1.11729841,  0.39173814],\n",
       "       [-0.92827621, -0.71259034],\n",
       "       [ 0.67841249, -1.24983122],\n",
       "       [ 2.00156789,  0.60066515],\n",
       "       [ 0.01683479, -0.2648896 ],\n",
       "       [-1.11729841, -1.57814509],\n",
       "       [-0.07767631,  0.09327099],\n",
       "       [ 2.00156789,  1.85422721],\n",
       "       [ 1.05645689, -0.86182392],\n",
       "       [ 0.30036809, -0.23504289],\n",
       "       [-1.49534281, -1.48860494],\n",
       "       [ 0.77292359,  0.60066515],\n",
       "       [-0.92827621,  0.63051187],\n",
       "       [-1.49534281, -0.38427646],\n",
       "       [-1.21180951, -1.36921808],\n",
       "       [ 0.30036809,  0.1231177 ],\n",
       "       [-1.30632061, -1.07075092],\n",
       "       [ 0.20585699, -0.23504289],\n",
       "       [-0.17218741,  1.70499363],\n",
       "       [ 0.30036809, -0.68274362],\n",
       "       [-0.73925401,  0.33204471],\n",
       "       [-0.07767631,  2.06315422],\n",
       "       [ 1.90705679,  0.98867246],\n",
       "       [ 0.67841249,  1.88407393],\n",
       "       [ 1.05645689, -0.95136406],\n",
       "       [-0.55023181,  0.95882574],\n",
       "       [ 0.77292359,  1.46621991],\n",
       "       [-0.26669851, -1.42891151],\n",
       "       [ 0.01683479,  0.09327099],\n",
       "       [-0.92827621, -0.2648896 ],\n",
       "       [-0.26669851, -0.2648896 ],\n",
       "       [-0.26669851,  1.19759947],\n",
       "       [-0.92827621, -0.92151735],\n",
       "       [ 0.01683479, -0.20519617],\n",
       "       [ 0.30036809, -0.47381661],\n",
       "       [ 0.11134589,  0.27235128],\n",
       "       [ 0.96194579,  0.66035858],\n",
       "       [ 0.30036809,  0.33204471],\n",
       "       [-0.83376511,  0.45143157],\n",
       "       [-0.07767631,  0.1231177 ],\n",
       "       [ 0.01683479, -0.53351004],\n",
       "       [ 0.96194579,  0.18281113],\n",
       "       [-1.40083171, -0.05596259],\n",
       "       [ 1.15096799, -0.95136406],\n",
       "       [ 0.96194579,  1.97361407],\n",
       "       [-0.26669851, -0.08580931],\n",
       "       [ 1.52901239, -1.24983122],\n",
       "       [ 0.96194579, -1.13044436],\n",
       "       [ 0.11134589,  0.83943888],\n",
       "       [ 0.39487919,  1.19759947],\n",
       "       [-1.11729841, -0.74243705],\n",
       "       [-1.02278731, -1.51845166],\n",
       "       [-0.83376511,  2.39146809],\n",
       "       [ 0.39487919, -0.41412318],\n",
       "       [-1.11729841, -1.54829838],\n",
       "       [ 0.96194579,  2.09300094],\n",
       "       [ 0.11134589,  0.15296442],\n",
       "       [-0.26669851,  0.27235128],\n",
       "       [ 0.77292359, -1.07075092],\n",
       "       [-1.30632061,  0.63051187],\n",
       "       [ 1.05645689,  0.60066515],\n",
       "       [-1.30632061, -0.38427646],\n",
       "       [-0.45572071, -0.50366333],\n",
       "       [ 0.96194579, -0.98121078],\n",
       "       [ 1.05645689,  0.18281113],\n",
       "       [-1.40083171, -0.59320347],\n",
       "       [ 0.86743469,  1.34683304],\n",
       "       [ 1.33999019,  0.66035858],\n",
       "       [-1.11729841, -1.07075092],\n",
       "       [-0.26669851, -0.53351004],\n",
       "       [ 1.81254569,  1.61545349],\n",
       "       [-0.26669851, -1.27967793],\n",
       "       [ 1.43450129,  0.42158486],\n",
       "       [-1.11729841, -1.13044436],\n",
       "       [-0.26669851,  2.36162138],\n",
       "       [-0.45572071, -0.80213048],\n",
       "       [-0.45572071,  0.03357756],\n",
       "       [-0.92827621, -1.07075092],\n",
       "       [-0.55023181,  2.45116152],\n",
       "       [ 0.20585699, -0.32458303],\n",
       "       [ 0.96194579, -1.04090421],\n",
       "       [-1.02278731,  2.06315422],\n",
       "       [ 0.39487919,  0.66035858],\n",
       "       [ 1.71803459,  1.0782126 ],\n",
       "       [-0.26669851, -0.86182392],\n",
       "       [ 0.11134589,  1.13790603],\n",
       "       [-0.07767631,  0.74989873],\n",
       "       [-0.73925401, -1.57814509],\n",
       "       [-0.26669851,  0.1231177 ],\n",
       "       [-1.87338721, -0.71259034],\n",
       "       [ 0.77292359, -1.19013779],\n",
       "       [ 0.58390139, -0.86182392],\n",
       "       [-0.64474291,  0.09327099],\n",
       "       [-1.49534281, -1.2199845 ],\n",
       "       [-0.07767631,  0.27235128],\n",
       "       [-0.17218741,  0.21265785],\n",
       "       [-0.07767631, -1.04090421],\n",
       "       [-0.73925401,  1.43637319],\n",
       "       [-1.58985391,  0.00373084],\n",
       "       [ 2.09607899, -0.77228377],\n",
       "       [ 0.77292359,  0.18281113],\n",
       "       [-0.73925401,  1.16775275],\n",
       "       [-1.58985391, -1.54829838],\n",
       "       [ 0.86743469, -1.33937137],\n",
       "       [ 0.20585699,  0.1231177 ],\n",
       "       [ 0.67841249, -0.68274362],\n",
       "       [-1.40083171, -1.42891151],\n",
       "       [ 0.30036809, -0.50366333],\n",
       "       [ 0.39487919,  1.0782126 ],\n",
       "       [-1.40083171, -1.19013779],\n",
       "       [-1.02278731,  0.60066515],\n",
       "       [-0.26669851, -1.2199845 ],\n",
       "       [ 1.05645689, -0.08580931],\n",
       "       [ 0.11134589,  0.21265785],\n",
       "       [ 2.09607899, -1.01105749],\n",
       "       [ 0.01683479, -0.08580931],\n",
       "       [-0.92827621,  0.33204471],\n",
       "       [-1.68436501, -0.95136406],\n",
       "       [-1.11729841,  0.54097172],\n",
       "       [-0.07767631,  2.27208123],\n",
       "       [-0.07767631, -0.17534945],\n",
       "       [ 0.86743469,  1.16775275],\n",
       "       [-1.40083171,  0.42158486],\n",
       "       [ 1.52901239,  1.19759947],\n",
       "       [-0.55023181, -1.48860494],\n",
       "       [ 0.30036809, -0.47381661],\n",
       "       [-1.30632061, -1.2199845 ],\n",
       "       [-0.07767631,  0.302198  ],\n",
       "       [ 1.43450129, -1.01105749],\n",
       "       [ 1.05645689, -1.19013779],\n",
       "       [-1.77887611, -1.3990648 ],\n",
       "       [-0.17218741, -1.04090421],\n",
       "       [-0.26669851,  0.86928559],\n",
       "       [-0.17218741,  1.49606662],\n",
       "       [ 1.33999019,  2.45116152],\n",
       "       [ 0.77292359, -1.36921808],\n",
       "       [ 0.20585699, -0.08580931],\n",
       "       [-1.30632061, -1.33937137],\n",
       "       [-0.07767631,  2.33177466],\n",
       "       [-1.87338721,  0.42158486],\n",
       "       [ 1.43450129,  1.0782126 ],\n",
       "       [ 0.77292359,  0.33204471],\n",
       "       [ 0.67841249,  0.33204471],\n",
       "       [-0.92827621, -0.38427646],\n",
       "       [-0.92827621,  0.51112501],\n",
       "       [ 0.67841249, -1.36921808],\n",
       "       [ 0.39487919,  0.36189143],\n",
       "       [ 1.15096799,  0.60066515],\n",
       "       [ 0.11134589,  0.09327099],\n",
       "       [-0.83376511, -0.74243705],\n",
       "       [-0.64474291,  0.63051187],\n",
       "       [ 1.05645689,  0.54097172],\n",
       "       [-0.83376511, -1.19013779],\n",
       "       [ 0.01683479, -0.38427646],\n",
       "       [-1.11729841, -0.47381661],\n",
       "       [-1.49534281, -0.14550274],\n",
       "       [ 2.00156789, -0.77228377],\n",
       "       [ 0.86743469, -1.27967793],\n",
       "       [ 1.05645689,  2.18254108]])"
      ]
     },
     "execution_count": 27,
     "metadata": {},
     "output_type": "execute_result"
    }
   ],
   "source": [
    "\n",
    "x_train=scaler.fit_transform(x_train)\n",
    "x_train"
   ]
  },
  {
   "cell_type": "code",
   "execution_count": 28,
   "metadata": {},
   "outputs": [
    {
     "data": {
      "text/plain": [
       "array([[-9.88923374e-02, -4.03849390e-01],\n",
       "       [ 1.25180174e-03, -5.74339898e-01],\n",
       "       [-1.99036477e-01, -1.76528713e-01],\n",
       "       [-6.99757172e-01,  2.78112641e-01],\n",
       "       [ 4.01828358e-01, -1.48113629e-01],\n",
       "       [-6.99757172e-01,  1.64203670e+00],\n",
       "       [ 1.70370217e+00,  7.61169079e-01],\n",
       "       [ 1.01395941e-01, -7.44830406e-01],\n",
       "       [ 9.02549054e-01, -1.54045277e+00],\n",
       "       [ 1.10283733e+00,  1.52837636e+00],\n",
       "       [ 8.02404915e-01, -1.28471701e+00],\n",
       "       [-1.10033373e+00,  1.92867387e-01],\n",
       "       [-5.99613033e-01, -9.12834593e-02],\n",
       "       [-9.00045451e-01,  2.78112641e-01],\n",
       "       [-1.99036477e-01, -5.45924813e-01],\n",
       "       [ 1.25180174e-03, -7.16415321e-01],\n",
       "       [ 1.00269319e+00, -7.44830406e-01],\n",
       "       [ 3.01684219e-01,  1.84094229e+00],\n",
       "       [ 2.01540080e-01, -1.76528713e-01],\n",
       "       [ 3.01684219e-01, -5.17509729e-01],\n",
       "       [-1.99036477e-01, -1.11422651e+00],\n",
       "       [-1.20047787e+00, -1.25630193e+00],\n",
       "       [ 5.01972498e-01, -3.47019221e-01],\n",
       "       [ 5.01972498e-01,  2.03984789e+00],\n",
       "       [ 5.01972498e-01,  7.92070484e-02],\n",
       "       [-1.30062201e+00, -1.65411311e+00],\n",
       "       [-1.10033373e+00, -1.19947176e+00],\n",
       "       [ 3.01684219e-01, -4.60679559e-01],\n",
       "       [ 1.60355803e+00,  1.86935738e+00],\n",
       "       [ 1.50341389e+00,  1.72728196e+00],\n",
       "       [-1.70119856e+00,  1.36037218e-01],\n",
       "       [-6.99757172e-01, -1.71094328e+00],\n",
       "       [ 2.10427872e+00, -1.11422651e+00],\n",
       "       [ 1.90399045e+00, -4.89094644e-01],\n",
       "       [-1.50091029e+00,  1.07622133e-01],\n",
       "       [-1.99036477e-01, -7.73245490e-01],\n",
       "       [-1.10033373e+00,  1.15898026e+00],\n",
       "       [ 2.01540080e-01, -1.00056617e+00],\n",
       "       [-1.80134270e+00, -3.44532901e-02],\n",
       "       [ 1.25180174e-03,  5.07919638e-02],\n",
       "       [-1.90148684e+00,  2.49697556e-01],\n",
       "       [ 4.01828358e-01, -4.03849390e-01],\n",
       "       [-9.88923374e-02, -7.16415321e-01],\n",
       "       [ 3.01684219e-01,  8.46414333e-01],\n",
       "       [ 1.40326975e+00,  1.61362162e+00],\n",
       "       [-1.80134270e+00, -2.04943798e-01],\n",
       "       [ 1.20298147e+00,  3.34942810e-01],\n",
       "       [ 1.40326975e+00,  1.95460263e+00],\n",
       "       [ 5.01972498e-01, -2.04943798e-01],\n",
       "       [ 1.10283733e+00, -1.02898125e+00],\n",
       "       [-1.40076615e+00, -4.03849390e-01],\n",
       "       [ 1.01395941e-01,  1.01690484e+00],\n",
       "       [-3.99324755e-01, -1.31313210e+00],\n",
       "       [-5.99613033e-01, -2.61773967e-01],\n",
       "       [ 1.01395941e-01, -4.60679559e-01],\n",
       "       [-1.30062201e+00,  1.92867387e-01],\n",
       "       [-1.99036477e-01,  3.91772979e-01],\n",
       "       [ 1.50341389e+00,  1.04531993e+00],\n",
       "       [-1.10033373e+00,  7.92070484e-02],\n",
       "       [-4.99468894e-01, -1.68252820e+00],\n",
       "       [ 2.20442286e+00,  1.86935738e+00],\n",
       "       [-1.99036477e-01, -6.31170067e-01],\n",
       "       [-4.99468894e-01,  1.64203670e+00],\n",
       "       [ 3.01684219e-01, -5.74339898e-01],\n",
       "       [-1.00018959e+00,  3.63357895e-01],\n",
       "       [ 5.01972498e-01, -6.88000236e-01],\n",
       "       [-1.30062201e+00, -5.45924813e-01],\n",
       "       [-1.00018959e+00,  3.34942810e-01],\n",
       "       [-9.88923374e-02, -6.59585152e-01],\n",
       "       [-1.70119856e+00, -9.12834593e-02],\n",
       "       [ 1.00269319e+00, -8.58490744e-01],\n",
       "       [-9.88923374e-02,  1.89777246e+00],\n",
       "       [ 1.10283733e+00,  1.18739535e+00],\n",
       "       [-9.88923374e-02,  6.19093656e-01],\n",
       "       [-3.99324755e-01,  2.03984789e+00],\n",
       "       [ 1.00269319e+00,  7.89584164e-01],\n",
       "       [ 1.60355803e+00, -1.48113629e-01],\n",
       "       [ 5.01972498e-01, -3.47019221e-01],\n",
       "       [-1.99036477e-01, -1.56886786e+00],\n",
       "       [-1.00018959e+00, -5.45924813e-01]])"
      ]
     },
     "execution_count": 28,
     "metadata": {},
     "output_type": "execute_result"
    }
   ],
   "source": [
    "x_test=scaler.fit_transform(x_test)\n",
    "x_test"
   ]
  },
  {
   "cell_type": "markdown",
   "metadata": {},
   "source": [
    "CALCULATING THE VALUE OF K "
   ]
  },
  {
   "cell_type": "code",
   "execution_count": 30,
   "metadata": {},
   "outputs": [
    {
     "data": {
      "text/plain": [
       "17.88854381999832"
      ]
     },
     "execution_count": 30,
     "metadata": {},
     "output_type": "execute_result"
    }
   ],
   "source": [
    "np.sqrt(x_train.shape[0])"
   ]
  },
  {
   "cell_type": "code",
   "execution_count": 31,
   "metadata": {},
   "outputs": [],
   "source": [
    "k=17"
   ]
  },
  {
   "cell_type": "code",
   "execution_count": 32,
   "metadata": {},
   "outputs": [],
   "source": [
    "from sklearn.neighbors import KNeighborsClassifier\n",
    "knn=KNeighborsClassifier(n_neighbors=k)\n"
   ]
  },
  {
   "cell_type": "code",
   "execution_count": 34,
   "metadata": {},
   "outputs": [
    {
     "data": {
      "text/html": [
       "<style>#sk-container-id-1 {color: black;}#sk-container-id-1 pre{padding: 0;}#sk-container-id-1 div.sk-toggleable {background-color: white;}#sk-container-id-1 label.sk-toggleable__label {cursor: pointer;display: block;width: 100%;margin-bottom: 0;padding: 0.3em;box-sizing: border-box;text-align: center;}#sk-container-id-1 label.sk-toggleable__label-arrow:before {content: \"▸\";float: left;margin-right: 0.25em;color: #696969;}#sk-container-id-1 label.sk-toggleable__label-arrow:hover:before {color: black;}#sk-container-id-1 div.sk-estimator:hover label.sk-toggleable__label-arrow:before {color: black;}#sk-container-id-1 div.sk-toggleable__content {max-height: 0;max-width: 0;overflow: hidden;text-align: left;background-color: #f0f8ff;}#sk-container-id-1 div.sk-toggleable__content pre {margin: 0.2em;color: black;border-radius: 0.25em;background-color: #f0f8ff;}#sk-container-id-1 input.sk-toggleable__control:checked~div.sk-toggleable__content {max-height: 200px;max-width: 100%;overflow: auto;}#sk-container-id-1 input.sk-toggleable__control:checked~label.sk-toggleable__label-arrow:before {content: \"▾\";}#sk-container-id-1 div.sk-estimator input.sk-toggleable__control:checked~label.sk-toggleable__label {background-color: #d4ebff;}#sk-container-id-1 div.sk-label input.sk-toggleable__control:checked~label.sk-toggleable__label {background-color: #d4ebff;}#sk-container-id-1 input.sk-hidden--visually {border: 0;clip: rect(1px 1px 1px 1px);clip: rect(1px, 1px, 1px, 1px);height: 1px;margin: -1px;overflow: hidden;padding: 0;position: absolute;width: 1px;}#sk-container-id-1 div.sk-estimator {font-family: monospace;background-color: #f0f8ff;border: 1px dotted black;border-radius: 0.25em;box-sizing: border-box;margin-bottom: 0.5em;}#sk-container-id-1 div.sk-estimator:hover {background-color: #d4ebff;}#sk-container-id-1 div.sk-parallel-item::after {content: \"\";width: 100%;border-bottom: 1px solid gray;flex-grow: 1;}#sk-container-id-1 div.sk-label:hover label.sk-toggleable__label {background-color: #d4ebff;}#sk-container-id-1 div.sk-serial::before {content: \"\";position: absolute;border-left: 1px solid gray;box-sizing: border-box;top: 0;bottom: 0;left: 50%;z-index: 0;}#sk-container-id-1 div.sk-serial {display: flex;flex-direction: column;align-items: center;background-color: white;padding-right: 0.2em;padding-left: 0.2em;position: relative;}#sk-container-id-1 div.sk-item {position: relative;z-index: 1;}#sk-container-id-1 div.sk-parallel {display: flex;align-items: stretch;justify-content: center;background-color: white;position: relative;}#sk-container-id-1 div.sk-item::before, #sk-container-id-1 div.sk-parallel-item::before {content: \"\";position: absolute;border-left: 1px solid gray;box-sizing: border-box;top: 0;bottom: 0;left: 50%;z-index: -1;}#sk-container-id-1 div.sk-parallel-item {display: flex;flex-direction: column;z-index: 1;position: relative;background-color: white;}#sk-container-id-1 div.sk-parallel-item:first-child::after {align-self: flex-end;width: 50%;}#sk-container-id-1 div.sk-parallel-item:last-child::after {align-self: flex-start;width: 50%;}#sk-container-id-1 div.sk-parallel-item:only-child::after {width: 0;}#sk-container-id-1 div.sk-dashed-wrapped {border: 1px dashed gray;margin: 0 0.4em 0.5em 0.4em;box-sizing: border-box;padding-bottom: 0.4em;background-color: white;}#sk-container-id-1 div.sk-label label {font-family: monospace;font-weight: bold;display: inline-block;line-height: 1.2em;}#sk-container-id-1 div.sk-label-container {text-align: center;}#sk-container-id-1 div.sk-container {/* jupyter's `normalize.less` sets `[hidden] { display: none; }` but bootstrap.min.css set `[hidden] { display: none !important; }` so we also need the `!important` here to be able to override the default hidden behavior on the sphinx rendered scikit-learn.org. See: https://github.com/scikit-learn/scikit-learn/issues/21755 */display: inline-block !important;position: relative;}#sk-container-id-1 div.sk-text-repr-fallback {display: none;}</style><div id=\"sk-container-id-1\" class=\"sk-top-container\"><div class=\"sk-text-repr-fallback\"><pre>KNeighborsClassifier(n_neighbors=17)</pre><b>In a Jupyter environment, please rerun this cell to show the HTML representation or trust the notebook. <br />On GitHub, the HTML representation is unable to render, please try loading this page with nbviewer.org.</b></div><div class=\"sk-container\" hidden><div class=\"sk-item\"><div class=\"sk-estimator sk-toggleable\"><input class=\"sk-toggleable__control sk-hidden--visually\" id=\"sk-estimator-id-1\" type=\"checkbox\" checked><label for=\"sk-estimator-id-1\" class=\"sk-toggleable__label sk-toggleable__label-arrow\">KNeighborsClassifier</label><div class=\"sk-toggleable__content\"><pre>KNeighborsClassifier(n_neighbors=17)</pre></div></div></div></div></div>"
      ],
      "text/plain": [
       "KNeighborsClassifier(n_neighbors=17)"
      ]
     },
     "execution_count": 34,
     "metadata": {},
     "output_type": "execute_result"
    }
   ],
   "source": [
    "#train our model\n",
    "knn.fit(x_train,y_train)"
   ]
  },
  {
   "cell_type": "code",
   "execution_count": 35,
   "metadata": {},
   "outputs": [],
   "source": [
    "y_pred=knn.predict(x_test)"
   ]
  },
  {
   "cell_type": "code",
   "execution_count": 36,
   "metadata": {},
   "outputs": [
    {
     "data": {
      "text/plain": [
       "(80,)"
      ]
     },
     "execution_count": 36,
     "metadata": {},
     "output_type": "execute_result"
    }
   ],
   "source": [
    "y_pred.shape"
   ]
  },
  {
   "cell_type": "code",
   "execution_count": 37,
   "metadata": {},
   "outputs": [
    {
     "data": {
      "text/plain": [
       "(80,)"
      ]
     },
     "execution_count": 37,
     "metadata": {},
     "output_type": "execute_result"
    }
   ],
   "source": [
    "y_test.shape"
   ]
  },
  {
   "cell_type": "code",
   "execution_count": 38,
   "metadata": {},
   "outputs": [
    {
     "data": {
      "text/plain": [
       "0.9125"
      ]
     },
     "execution_count": 38,
     "metadata": {},
     "output_type": "execute_result"
    }
   ],
   "source": [
    "from sklearn.metrics import  accuracy_score  \n",
    "accuracy_score(y_test,y_pred)"
   ]
  },
  {
   "cell_type": "code",
   "execution_count": 40,
   "metadata": {},
   "outputs": [
    {
     "data": {
      "text/plain": [
       "array([[49,  3],\n",
       "       [ 4, 24]], dtype=int64)"
      ]
     },
     "execution_count": 40,
     "metadata": {},
     "output_type": "execute_result"
    }
   ],
   "source": [
    "from sklearn.metrics import confusion_matrix\n",
    "confusion_matrix(y_test,y_pred)"
   ]
  },
  {
   "cell_type": "markdown",
   "metadata": {},
   "source": [
    "Calculating  K on the basis of hit and trial method "
   ]
  },
  {
   "cell_type": "code",
   "execution_count": 42,
   "metadata": {},
   "outputs": [],
   "source": [
    "accuracy=[]\n",
    "for i in range(1,26):\n",
    "    knn=KNeighborsClassifier(n_neighbors=i)\n",
    "    knn.fit(x_train,y_train)\n",
    "    accuracy.append(accuracy_score(y_test,knn.predict(x_test)))\n",
    "    "
   ]
  },
  {
   "cell_type": "code",
   "execution_count": 43,
   "metadata": {},
   "outputs": [
    {
     "data": {
      "text/plain": [
       "[0.8875,\n",
       " 0.85,\n",
       " 0.8875,\n",
       " 0.9,\n",
       " 0.9,\n",
       " 0.9,\n",
       " 0.9,\n",
       " 0.8875,\n",
       " 0.9125,\n",
       " 0.9125,\n",
       " 0.9125,\n",
       " 0.9125,\n",
       " 0.9125,\n",
       " 0.9125,\n",
       " 0.9125,\n",
       " 0.9125,\n",
       " 0.9125,\n",
       " 0.9,\n",
       " 0.9125,\n",
       " 0.9,\n",
       " 0.9,\n",
       " 0.9,\n",
       " 0.9,\n",
       " 0.9,\n",
       " 0.9]"
      ]
     },
     "execution_count": 43,
     "metadata": {},
     "output_type": "execute_result"
    }
   ],
   "source": [
    "accuracy"
   ]
  },
  {
   "cell_type": "code",
   "execution_count": 44,
   "metadata": {},
   "outputs": [
    {
     "data": {
      "text/plain": [
       "25"
      ]
     },
     "execution_count": 44,
     "metadata": {},
     "output_type": "execute_result"
    }
   ],
   "source": [
    "len(accuracy)"
   ]
  },
  {
   "cell_type": "code",
   "execution_count": 45,
   "metadata": {},
   "outputs": [
    {
     "data": {
      "text/plain": [
       "[<matplotlib.lines.Line2D at 0x1f22c491c10>]"
      ]
     },
     "execution_count": 45,
     "metadata": {},
     "output_type": "execute_result"
    },
    {
     "data": {
      "image/png": "[encoded data removed]",
      "text/plain": [
       "<Figure size 640x480 with 1 Axes>"
      ]
     },
     "metadata": {},
     "output_type": "display_data"
    }
   ],
   "source": [
    "plt.plot(range(1,26),accuracy)"
   ]
  },
  {
   "cell_type": "code",
   "execution_count": null,
   "metadata": {},
   "outputs": [],
   "source": []
  }
 ],
 "metadata": {
  "kernelspec": {
   "display_name": "Python 3",
   "language": "python",
   "name": "python3"
  },
  "language_info": {
   "codemirror_mode": {
    "name": "ipython",
    "version": 3
   },
   "file_extension": ".py",
   "mimetype": "text/x-python",
   "name": "python",
   "nbconvert_exporter": "python",
   "pygments_lexer": "ipython3",
   "version": "3.11.4"
  }
 },
 "nbformat": 4,
 "nbformat_minor": 2
}
